{
 "cells": [
  {
   "cell_type": "code",
   "execution_count": 1,
   "id": "161023a9-6e4c-44ab-9f40-d783cccfa17f",
   "metadata": {
    "tags": []
   },
   "outputs": [],
   "source": [
    "import os\n",
    "import pandas as pd\n",
    "import numpy as np\n",
    "import zipfile\n",
    "import shutil\n",
    "\n",
    "import dask\n",
    "import dask.dataframe as dd"
   ]
  },
  {
   "cell_type": "code",
   "execution_count": 2,
   "id": "82f01bb7-97fb-45a9-932b-9c24a6172ba8",
   "metadata": {},
   "outputs": [],
   "source": [
    "from IPython.display import Audio, display\n",
    "\n",
    "url_done = (\n",
    "    \"https://sound.peal.io/ps/audios/000/000/537/original/woo_vu_luvub_dub_dub.wav\"\n",
    ")\n",
    "url_done = \"https://www.myinstants.com/media/sounds/taco-bell-bong-sfx.mp3\"\n",
    "url_done = \"https://www.myinstants.com/media/sounds/magic_immune.mp3\"\n",
    "# url_done=\"https://www.myinstants.com/media/sounds/tindeck_1.mp3\"\n",
    "# url_done=\"https://www.myinstants.com/media/sounds/dun_dun_1.mp3\"\n",
    "\n",
    "\n",
    "def allDone():\n",
    "    display(\n",
    "        Audio(\n",
    "            url=url_done,\n",
    "            autoplay=True,\n",
    "        )\n",
    "    )\n",
    "\n",
    "\n",
    "url_exception = \"http://www.wav-sounds.com/movie/austinpowers.wav\"\n",
    "url_exception = \"https://www.myinstants.com/media/sounds/roblox-death-sound_1.mp3\"\n",
    "\n",
    "\n",
    "def play_sound(self, etype, value, tb, tb_offset=None):\n",
    "    self.showtraceback((etype, value, tb), tb_offset=tb_offset)\n",
    "    display(Audio(url=url_exception, autoplay=True))\n",
    "\n",
    "\n",
    "get_ipython().set_custom_exc((Exception,), play_sound)"
   ]
  },
  {
   "cell_type": "code",
   "execution_count": 3,
   "id": "2d46aebf-deb4-4f9a-885f-9c55a1f6a19f",
   "metadata": {},
   "outputs": [],
   "source": [
    "data_dir = os.path.join(os.getcwd(), \"..\", \"data\")"
   ]
  },
  {
   "cell_type": "code",
   "execution_count": 4,
   "id": "2ab911fa-6d00-4602-a042-bdbb6b52861d",
   "metadata": {},
   "outputs": [],
   "source": [
    "stop_events = os.path.join(data_dir, \"stop_event\")"
   ]
  },
  {
   "cell_type": "code",
   "execution_count": 12,
   "id": "cb998d6d-4e93-449a-b919-f259fd5dea6c",
   "metadata": {},
   "outputs": [
    {
     "name": "stdout",
     "output_type": "stream",
     "text": [
      "Summer 2019 Stop Event and Pass Census.zip\n",
      "yes\n",
      "trimet_stop_event - Fall 2018 v2.zip\n",
      "yes\n",
      "trimet_stop_event - Winter 2018.zip\n",
      "yes\n",
      "2 trimet_stop_event - Aug 31 and Sep 1 2020.zip\n",
      "yes\n",
      "2 trimet_stop_event - Mar to Aug 2020.zip\n",
      "yes\n",
      "2 trimet_stop_event - Fall 2019.zip\n",
      "yes\n",
      "2 TriMet Stop Event and Census Spring 2019.zip\n",
      "yes\n",
      "Winter2019 StopEvent PassCen.zip\n",
      "yes\n",
      "2 trimet_stop_event - Sep 2020 to Mar 2021.zip\n",
      "yes\n"
     ]
    }
   ],
   "source": [
    "for file in os.listdir(stop_events):   \n",
    "    file = os.path.join(stop_events, file)\n",
    "    if zipfile.is_zipfile(file): \n",
    "        print(f'extracting: {file}')\n",
    "        with zipfile.ZipFile(file) as item: \n",
    "            item.extractall(stop_events)  "
   ]
  },
  {
   "cell_type": "code",
   "execution_count": 21,
   "id": "9bf930cf-8848-4c05-90c9-b29115a5d44a",
   "metadata": {},
   "outputs": [],
   "source": [
    "stop_event_files = os.listdir(stop_events)\n",
    "\n",
    "for item in stop_event_files:\n",
    "    if '.zip' in item or 'census' in item:\n",
    "        os.remove(os.path.join(stop_events, item))"
   ]
  },
  {
   "cell_type": "code",
   "execution_count": 22,
   "id": "92890f7a-eb99-46fd-962f-2de2cac8e0a2",
   "metadata": {},
   "outputs": [],
   "source": [
    "import datetime\n",
    "from functools import lru_cache\n",
    "\n",
    "\n",
    "def lower_case_sort_columns(df):\n",
    "    df.columns = df.columns.str.lower()\n",
    "\n",
    "    df = df[\n",
    "        [\n",
    "            \"arrive_time\",\n",
    "            \"data_source\",\n",
    "            \"direction\",\n",
    "            \"door\",\n",
    "            \"dwell\",\n",
    "            \"estimated_load\",\n",
    "            \"leave_time\",\n",
    "            \"lift\",\n",
    "            \"location_id\",\n",
    "            \"maximum_speed\",\n",
    "            \"offs\",\n",
    "            \"ons\",\n",
    "            \"pattern_distance\",\n",
    "            \"route_number\",\n",
    "            \"schedule_status\",\n",
    "            \"service_date\",\n",
    "            \"service_key\",\n",
    "            \"stop_time\",\n",
    "            \"train\",\n",
    "            \"train_mileage\",\n",
    "            \"trip_number\",\n",
    "            \"vehicle_number\",\n",
    "            \"x_coordinate\",\n",
    "            \"y_coordinate\",\n",
    "        ]\n",
    "    ]\n",
    "    return df\n",
    "\n",
    "\n",
    "def parse_stop_event(df):\n",
    "\n",
    "    month_dict = {\n",
    "        \"JAN\": \"01\",\n",
    "        \"FEB\": \"02\",\n",
    "        \"MAR\": \"03\",\n",
    "        \"APR\": \"04\",\n",
    "        \"MAY\": \"05\",\n",
    "        \"JUN\": \"06\",\n",
    "        \"JUL\": \"07\",\n",
    "        \"AUG\": \"08\",\n",
    "        \"SEP\": \"09\",\n",
    "        \"OCT\": \"10\",\n",
    "        \"NOV\": \"11\",\n",
    "        \"DEC\": \"12\",\n",
    "    }\n",
    "\n",
    "    @lru_cache()\n",
    "    def parse_date(date_str):\n",
    "        date = date_str.split(\":\")[0]\n",
    "        day = date[:2]\n",
    "        month = month_dict[date[2:5]]\n",
    "        year = date[5:]\n",
    "        return year + \"/\" + month + \"/\" + day\n",
    "\n",
    "    df[\"service_date\"] = df[\"service_date\"].apply(parse_date)\n",
    "\n",
    "    df[\"service_date\"] = pd.to_datetime(df[\"service_date\"], format=\"%Y/%m/%d\")\n",
    "\n",
    "    df[\"day_of_year\"] = df[\"service_date\"].dt.day_of_year\n",
    "    df[\"day_of_week\"] = df[\"service_date\"].dt.day_of_week\n",
    "\n",
    "    df[\"arrival_deviance\"] = df[\"stop_time\"] - df[\"arrive_time\"]\n",
    "    df[\"arrive_deviance_departure_delta\"] = (\n",
    "        df[\"arrival_deviance\"] + df[\"leave_time\"] - df[\"arrive_time\"]\n",
    "    )\n",
    "\n",
    "    minutes_per_time_cat = 5\n",
    "    times = [\"stop_time\", \"arrive_time\", \"leave_time\"]\n",
    "    time_cats = [\"time_cat_\" + x for x in times]\n",
    "    df[time_cats] = df[times] // 60 // minutes_per_time_cat\n",
    "\n",
    "    return df"
   ]
  },
  {
   "cell_type": "code",
   "execution_count": 23,
   "id": "70d246f8-53c3-4583-a1b1-ba8f12d2a12c",
   "metadata": {},
   "outputs": [
    {
     "name": "stdout",
     "output_type": "stream",
     "text": [
      "working on 2 trimet_stop_event - Sep 2020 to Mar 2021.csv\n",
      "working on 2 trimet_stop_event - Aug 31 and Sep 1 2020.csv\n",
      "working on 2 trimet_stop_event - Fall 2019.csv\n",
      "working on 2 trimet_stop_event - Mar to Aug 2020.csv\n"
     ]
    },
    {
     "name": "stderr",
     "output_type": "stream",
     "text": [
      "/home/graham/.cache/pypoetry/virtualenvs/bus-prediction-H4ymfQQi-py3.8/lib/python3.8/site-packages/dask/dataframe/io/csv.py:125: DtypeWarning: Columns (6) have mixed types.Specify dtype option on import or set low_memory=False.\n",
      "  df = pandas_read_text(\n"
     ]
    },
    {
     "name": "stdout",
     "output_type": "stream",
     "text": [
      "working on 2 trimet_stop_event - Spring 2019.csv\n",
      "working on 2 trimet_stop_event - Summer 2019.csv\n",
      "working on 2 trimet_stop_event - Winter 2018.csv\n",
      "working on 2 trimet_stop_event - Winter 2019-20.csv\n",
      "working on trimet_stop_event - Fall 2018 v2.csv\n"
     ]
    },
    {
     "data": {
      "text/html": [
       "\n",
       "                <audio  controls=\"controls\" autoplay=\"autoplay\">\n",
       "                    <source src=\"https://www.myinstants.com/media/sounds/magic_immune.mp3\" type=\"audio/mpeg\" />\n",
       "                    Your browser does not support the audio element.\n",
       "                </audio>\n",
       "              "
      ],
      "text/plain": [
       "<IPython.lib.display.Audio object>"
      ]
     },
     "metadata": {},
     "output_type": "display_data"
    }
   ],
   "source": [
    "\n",
    "stop_event_file_names = [\n",
    "    \"2 trimet_stop_event - Sep 2020 to Mar 2021.csv\",\n",
    "    \"2 trimet_stop_event - Aug 31 and Sep 1 2020.csv\",\n",
    "    \"2 trimet_stop_event - Fall 2019.csv\",\n",
    "    \"2 trimet_stop_event - Mar to Aug 2020.csv\",\n",
    "    \"2 trimet_stop_event - Spring 2019.csv\",\n",
    "    \"2 trimet_stop_event - Summer 2019.csv\",\n",
    "    \"2 trimet_stop_event - Winter 2018.csv\",\n",
    "    \"2 trimet_stop_event - Winter 2019-20.csv\",\n",
    "    \"trimet_stop_event - Fall 2018 v2.csv\",\n",
    "]\n",
    "\n",
    "\n",
    "stop_event_dfs = []\n",
    "for file_name in stop_event_file_names:\n",
    "    print(\"working on\", file_name)\n",
    "    file_name = os.path.join(stop_events, file_name)\n",
    "    df = dd.read_csv(\n",
    "        file_name,\n",
    "        dtype={\n",
    "            \"LOCATION_DISTANCE\": \"float32\",\n",
    "            \"PATTERN_DISTANCE\": \"float32\",\n",
    "            \"TRAIN_MILEAGE\": \"float32\",\n",
    "            \"X_COORDINATE\": \"float32\",\n",
    "            \"Y_COORDINATE\": \"float32\",\n",
    "            \"DATA_SOURCE\": \"float64\",\n",
    "            \"LOCATION_ID\": \"float64\",\n",
    "            \"SCHEDULE_STATUS\": \"float64\",\n",
    "        },\n",
    "    )\n",
    "    df = lower_case_sort_columns(df)\n",
    "    df = df[df[\"route_number\"] == 9].compute()\n",
    "    df = parse_stop_event(df)\n",
    "    stop_event_dfs.append(df)\n",
    "\n",
    "df = pd.concat(stop_event_dfs, axis=0, ignore_index=True)\n",
    "\n",
    "times = [\"stop_time\", \"arrive_time\", \"leave_time\"]\n",
    "time_cats = [\"time_cat_\" + x for x in times]\n",
    "categories = [\n",
    "    \"vehicle_number\",\n",
    "    \"train\",\n",
    "    \"route_number\",\n",
    "    \"direction\",\n",
    "    \"service_key\",\n",
    "    \"location_id\",\n",
    "    \"door\",\n",
    "    \"lift\",\n",
    "    \"day_of_year\",\n",
    "    \"day_of_week\",\n",
    "    *time_cats,\n",
    "]\n",
    "\n",
    "df[categories] = df[categories].astype(\"category\")\n",
    "\n",
    "df = df.sort_values([\"service_date\", \"train\", \"trip_number\", \"stop_time\"])\n",
    "df = df.reset_index()\n",
    "\n",
    "pickle_dir = os.path.join(data_dir, \"mega_pickle\")\n",
    "df.to_pickle(pickle_dir)\n",
    "\n",
    "allDone()"
   ]
  },
  {
   "cell_type": "code",
   "execution_count": null,
   "id": "47971ca2-58b8-4589-a9e4-aad2f1b20fb8",
   "metadata": {},
   "outputs": [],
   "source": [
    "# save_file = os.path.join(data_dir, \"mega_stop_event_1.hdf\")\n",
    "# df = pd.read_hdf(save_file, \"/df\")\n",
    "\n",
    "# pickle_dir = os.path.join(data_dir, \"mega_pickle\")\n",
    "# df.to_pickle(pickle_dir)"
   ]
  },
  {
   "cell_type": "code",
   "execution_count": null,
   "id": "213ff178-2225-4a67-b37c-745eb1282d1b",
   "metadata": {},
   "outputs": [],
   "source": []
  }
 ],
 "metadata": {
  "kernelspec": {
   "display_name": "bus_pred",
   "language": "python",
   "name": "bus_pred"
  },
  "language_info": {
   "codemirror_mode": {
    "name": "ipython",
    "version": 3
   },
   "file_extension": ".py",
   "mimetype": "text/x-python",
   "name": "python",
   "nbconvert_exporter": "python",
   "pygments_lexer": "ipython3",
   "version": "3.8.6"
  },
  "toc-autonumbering": false,
  "toc-showcode": true,
  "toc-showmarkdowntxt": false,
  "toc-showtags": false
 },
 "nbformat": 4,
 "nbformat_minor": 5
}
