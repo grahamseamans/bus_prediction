{
 "cells": [
  {
   "cell_type": "code",
   "execution_count": 29,
   "id": "58053409",
   "metadata": {},
   "outputs": [
    {
     "data": {
      "text/plain": [
       "<module 'util' from 'C:\\\\Users\\\\graham\\\\classes\\\\ds_exp\\\\ds-project\\\\src\\\\util.py'>"
      ]
     },
     "execution_count": 29,
     "metadata": {},
     "output_type": "execute_result"
    }
   ],
   "source": [
    "import numpy as np\n",
    "import pandas as pd\n",
    "import imp\n",
    "import os\n",
    "import tensorflow as tf\n",
    "\n",
    "from matplotlib import pyplot as plt\n",
    "\n",
    "import data\n",
    "import util\n",
    "\n",
    "imp.reload(data)\n",
    "imp.reload(util)"
   ]
  },
  {
   "cell_type": "code",
   "execution_count": 30,
   "id": "f10001ce-57c3-4339-93d9-567bc365b5c1",
   "metadata": {},
   "outputs": [],
   "source": [
    "from IPython.display import Audio, display\n",
    "\n",
    "url_exception = \"http://www.wav-sounds.com/movie/austinpowers.wav\"\n",
    "url_exception = \"https://www.myinstants.com/media/sounds/roblox-death-sound_1.mp3\"\n",
    "\n",
    "\n",
    "def play_sound(self, etype, value, tb, tb_offset=None):\n",
    "    self.showtraceback((etype, value, tb), tb_offset=tb_offset)\n",
    "    display(Audio(url=url_exception, autoplay=True))\n",
    "\n",
    "\n",
    "get_ipython().set_custom_exc((Exception,), play_sound)"
   ]
  },
  {
   "cell_type": "code",
   "execution_count": 31,
   "id": "003dcdc7-b55f-46a2-a2b3-dae2114eb494",
   "metadata": {},
   "outputs": [],
   "source": [
    "data_dir = os.path.join(os.getcwd(), \"..\", \"data\")\n",
    "mega_file = os.path.join(data_dir, \"mega_stop_event_1.hdf\")\n",
    "df = pd.read_hdf(mega_file, \"/df\", stop=100000)\n",
    "# df = pd.read_hdf(mega_file, \"/df\", stop=1000000)\n",
    "# df = pd.read_hdf(mega_file, \"/df\")"
   ]
  },
  {
   "cell_type": "code",
   "execution_count": 32,
   "id": "c56c474d-5a8e-4dc7-ac9b-2539a8ab1ded",
   "metadata": {},
   "outputs": [
    {
     "name": "stdout",
     "output_type": "stream",
     "text": [
      "shape: (100000, 32)\n",
      "shape: (100000, 32)\n"
     ]
    }
   ],
   "source": [
    "print(\"shape:\", df.shape)\n",
    "df = df.drop_duplicates()\n",
    "print(\"shape:\", df.shape)"
   ]
  },
  {
   "cell_type": "code",
   "execution_count": 33,
   "id": "4c535c5d-f6a5-46bc-953a-0772b57e4176",
   "metadata": {},
   "outputs": [],
   "source": [
    "# util.big_print(df[['trip_number', 'stop_time']].head(1000))"
   ]
  },
  {
   "cell_type": "code",
   "execution_count": 34,
   "id": "9ff27a3a-16fb-44f6-b909-7b6d3c54e988",
   "metadata": {},
   "outputs": [],
   "source": [
    "# df = df.sort_values([\"service_date\", \"direction\", \"train\", \"trip_number\", \"stop_time\"])\n",
    "df = df.sort_values([\"service_date\", \"train\", \"trip_number\", \"stop_time\"])"
   ]
  },
  {
   "cell_type": "code",
   "execution_count": 35,
   "id": "18e6c388-83d1-460c-b6fe-aae45ed3ab60",
   "metadata": {},
   "outputs": [],
   "source": [
    "df[\"label\"] = df.groupby([\"service_date\", \"train\", \"trip_number\"])[\n",
    "    \"arrival_deviance\"\n",
    "].shift(-1)\n",
    "df = df[~df.isin([np.nan, np.inf, -np.inf]).any(1)]"
   ]
  },
  {
   "cell_type": "code",
   "execution_count": 36,
   "id": "1234043f-12bc-42a4-98dc-b22836391721",
   "metadata": {},
   "outputs": [],
   "source": [
    "df = df.reset_index(drop=True)"
   ]
  },
  {
   "cell_type": "code",
   "execution_count": 37,
   "id": "ddb27103-4368-46d3-9de9-3e48562b719b",
   "metadata": {},
   "outputs": [
    {
     "name": "stdout",
     "output_type": "stream",
     "text": [
      "shape: (99043, 33)\n",
      "shape: (99043, 33)\n"
     ]
    }
   ],
   "source": [
    "print(\"shape:\", df.shape)\n",
    "df = df.drop_duplicates()\n",
    "print(\"shape:\", df.shape)"
   ]
  },
  {
   "cell_type": "markdown",
   "id": "302b3243",
   "metadata": {},
   "source": [
    "## how do we really want to structure this data?\n",
    "\n",
    "* we want to make things somehow discrete by their trip_id\n",
    "* so we want to somehow take the trip id and feed the model things about the trip\n",
    "* we would feed it about the trip (up to different levels, and also expect it to answer about the whole trip each time\n",
    "* yes so make a multi output thing that takes in a variable amount of information about the trip and answers about either - what it hasnt been supplied yet\n",
    "* we want to have it somehow take in the previous x stops, and predict the next x stops?\n",
    "* we dont want to punish it for guessing outside of the trip either\n",
    "* we could also have it take in the last data to predict the stops\n",
    "* start with only feeding it nothing besides day of the week and stuff, have it predict the times on the route\n",
    "* slowly add in the realtime stats as the bus goes through its route, feeding it more each time\n",
    "* we could either have it feed in more and more until it's filled, or just use a 0 padded window of bus stops. \n",
    "* let's look more into how rnn's and lstm's are normally constructed.\n"
   ]
  },
  {
   "cell_type": "code",
   "execution_count": 38,
   "id": "03e6e549-f2ca-44f2-8c3d-e15cf2b88218",
   "metadata": {},
   "outputs": [],
   "source": [
    "# filter\n",
    "df = df[\n",
    "    [\n",
    "        #         \"apc_status\",\n",
    "        \"arrival_deviance\",\n",
    "        \"arrive_deviance_departure_delta\",\n",
    "        \"arrive_time\",\n",
    "        #         \"data_source\",\n",
    "        \"day_of_week\",\n",
    "        \"day_of_year\",\n",
    "        \"direction\",\n",
    "        \"door\",\n",
    "        \"dwell\",\n",
    "        \"estimated_load\",\n",
    "        \"leave_time\",\n",
    "        \"lift\",\n",
    "        \"label\",\n",
    "        \"location_id\",\n",
    "        \"maximum_speed\",\n",
    "        \"offs\",\n",
    "        \"ons\",\n",
    "        \"pattern_distance\",\n",
    "        \"route_number\",\n",
    "        \"schedule_status\",\n",
    "        #                 \"service_date\",\n",
    "        \"service_key\",\n",
    "        \"stop_time\",\n",
    "        \"time_cat_arrive_time\",\n",
    "        \"time_cat_leave_time\",\n",
    "        \"time_cat_stop_time\",\n",
    "        \"train\",\n",
    "        \"train_mileage\",\n",
    "        \"trip_number\",\n",
    "        \"vehicle_number\",\n",
    "        \"x_coordinate\",\n",
    "        \"y_coordinate\",\n",
    "    ]\n",
    "]"
   ]
  },
  {
   "cell_type": "markdown",
   "id": "d22fb032-41de-44d4-9a5c-9adcce18da34",
   "metadata": {},
   "source": []
  },
  {
   "cell_type": "code",
   "execution_count": 40,
   "id": "c2568e26-1467-4e5f-958f-62fe2730e044",
   "metadata": {},
   "outputs": [
    {
     "name": "stdout",
     "output_type": "stream",
     "text": [
      "0    10858.0\n",
      "1     7605.0\n",
      "2    13033.0\n",
      "3    12862.0\n",
      "4     9347.0\n",
      "5     4558.0\n",
      "6    12868.0\n",
      "7    12863.0\n",
      "8     4556.0\n",
      "9     4553.0\n",
      "Name: location_id, dtype: category\n",
      "Categories (173, float64): [0.0, 2253.0, 3397.0, 3398.0, ..., 13792.0, 13825.0, 13957.0, 14018.0]\n"
     ]
    },
    {
     "name": "stderr",
     "output_type": "stream",
     "text": [
      "C:\\tools\\miniconda3\\envs\\tf\\lib\\site-packages\\pandas\\io\\formats\\format.py:1429: FutureWarning: Index.ravel returning ndarray is deprecated; in a future version this will return a view on self.\n",
      "  for val, m in zip(values.ravel(), mask.ravel())\n"
     ]
    }
   ],
   "source": []
  },
  {
   "cell_type": "code",
   "execution_count": 12,
   "id": "3372e002",
   "metadata": {},
   "outputs": [],
   "source": [
    "df = pd.get_dummies(df)  # turns all categoricals into one hot encoded columns!"
   ]
  },
  {
   "cell_type": "code",
   "execution_count": 13,
   "id": "5dd0e099",
   "metadata": {},
   "outputs": [
    {
     "name": "stdout",
     "output_type": "stream",
     "text": [
      "shape: (99043, 1940)\n"
     ]
    }
   ],
   "source": [
    "print(\"shape:\", df.shape)"
   ]
  },
  {
   "cell_type": "code",
   "execution_count": 14,
   "id": "7633839d-ce33-4692-b512-22c671d3697b",
   "metadata": {},
   "outputs": [],
   "source": [
    "df = df.astype(\"float32\")"
   ]
  },
  {
   "cell_type": "code",
   "execution_count": 15,
   "id": "f5c12758-a320-4bc9-b8fb-557b3cf80b14",
   "metadata": {},
   "outputs": [],
   "source": [
    "# shuffle\n",
    "from numpy.random import default_rng\n",
    "\n",
    "\n",
    "def shuffle_dfs_in_place(dfs):\n",
    "    length = dfs[0].shape[0]\n",
    "    for df in dfs:\n",
    "        assert df.shape[0] == length\n",
    "    rng = default_rng()\n",
    "    idx = rng.choice(length, length)\n",
    "    for i, df in enumerate(dfs):\n",
    "        dfs[i] = df.iloc[idx]\n",
    "\n",
    "\n",
    "def shuffle_dfs(a, b):\n",
    "    assert a.shape[0] == b.shape[0]\n",
    "    length = a.shape[0]\n",
    "    x = a\n",
    "    y = b\n",
    "    rng = default_rng()\n",
    "    idx = rng.choice(length, length)\n",
    "    x = x.iloc[idx]\n",
    "    y = y.iloc[idx]\n",
    "    return x, y\n",
    "\n",
    "\n",
    "# x_train, y_train = shuffle_dfs(x_train, y_train)"
   ]
  },
  {
   "cell_type": "code",
   "execution_count": 16,
   "id": "95f9a6fb-515a-4ce6-956c-fa9cdb26c3ed",
   "metadata": {},
   "outputs": [],
   "source": [
    "shuffle_dfs_in_place([df])"
   ]
  },
  {
   "cell_type": "code",
   "execution_count": 17,
   "id": "524d052a-7077-4898-8cd1-c3386a3893aa",
   "metadata": {},
   "outputs": [],
   "source": [
    "def train_val_test(train, val, test, df, target):\n",
    "    assert train + val + test == 1\n",
    "    data_len = len(df)\n",
    "    train_size = int(train * data_len)\n",
    "    val_size = int(val * data_len)\n",
    "\n",
    "    x = []\n",
    "    x.append(df.iloc[:train_size])\n",
    "    x.append(df.iloc[train_size : train_size + val_size])\n",
    "    x.append(df.iloc[train_size + val_size :])\n",
    "\n",
    "    y = []\n",
    "    for df in x:\n",
    "        y.append(df.pop(target))\n",
    "\n",
    "    return (*x, *y)\n",
    "\n",
    "\n",
    "x_train, x_val, x_test, y_train, y_val, y_test = train_val_test(\n",
    "    0.8, 0.1, 0.1, df, \"label\"\n",
    ")\n",
    "\n",
    "del df"
   ]
  },
  {
   "cell_type": "code",
   "execution_count": 18,
   "id": "38556f40-e795-48ac-8589-cc6252dc2057",
   "metadata": {},
   "outputs": [],
   "source": [
    "# x = df\n",
    "# label = x.pop(\"label\")"
   ]
  },
  {
   "cell_type": "code",
   "execution_count": 19,
   "id": "0082f2b0-658a-4ec1-b7be-9caa04d4f089",
   "metadata": {},
   "outputs": [],
   "source": [
    "# batch_size = 50\n",
    "# data_len = len(x)\n",
    "# train = 0.8\n",
    "# val = 0.1\n",
    "# test = 0.1\n",
    "\n",
    "# assert train + val + test == 1\n",
    "\n",
    "# train_size = int(train * data_len)\n",
    "# val_size = int(val * data_len)\n",
    "\n",
    "# dataset = tf.data.Dataset.from_tensor_slices((x.values, label.values))\n",
    "\n",
    "# # only shuffles the training set\n",
    "# train_dataset = dataset.take(train_size).shuffle(int(1e6)).batch(batch_size)\n",
    "# val_dataset = dataset.skip(train_size).take(val_size).batch(batch_size)\n",
    "# test_dataset = dataset.skip(train_size).skip(val_size).batch(batch_size)"
   ]
  },
  {
   "cell_type": "code",
   "execution_count": 20,
   "id": "95fd3ed7-5999-4fa2-a475-f5d1817aeaff",
   "metadata": {},
   "outputs": [],
   "source": [
    "# from sklearn.decomposition import PCA\n",
    "# from sklearn.preprocessing import MinMaxScaler\n",
    "# from sklearn.pipeline import Pipeline\n",
    "\n",
    "# pipe = Pipeline([(\"scaler\", MinMaxScaler()), (\"pca\", PCA(1000))])\n",
    "# x_train = pipe.fit_transform(x_train)\n",
    "# print(\"sum of variance_ratio: \", np.sum(pipe[\"pca\"].explained_variance_ratio_))\n",
    "# x_val = pipe.transform(x_val)\n",
    "# x_test = pipe.transform(x_test)"
   ]
  },
  {
   "cell_type": "code",
   "execution_count": 21,
   "id": "2189e845",
   "metadata": {},
   "outputs": [],
   "source": [
    "tf.random.set_seed(1234)"
   ]
  },
  {
   "cell_type": "code",
   "execution_count": 22,
   "id": "7f63e2e5",
   "metadata": {},
   "outputs": [],
   "source": [
    "def get_compiled_model():\n",
    "    model = tf.keras.Sequential(\n",
    "        [\n",
    "            tf.keras.layers.BatchNormalization(),\n",
    "            tf.keras.layers.Dense(1000, activation=\"relu\"),\n",
    "            tf.keras.layers.Dense(500, activation=\"relu\"),\n",
    "            tf.keras.layers.Dense(100, activation=\"relu\"),\n",
    "            tf.keras.layers.BatchNormalization(),\n",
    "            tf.keras.layers.Dense(50, activation=\"relu\"),\n",
    "            tf.keras.layers.Dense(50, activation=\"relu\"),\n",
    "            #             tf.keras.layers.Dropout(0.3),\n",
    "            tf.keras.layers.Dense(1),\n",
    "        ]\n",
    "    )\n",
    "\n",
    "    model.compile(\n",
    "        optimizer=\"adam\",\n",
    "        loss=tf.keras.losses.MeanSquaredError(\n",
    "            reduction=\"auto\", name=\"mean_squared_error\"\n",
    "        ),\n",
    "        metrics=[\"accuracy\", \"mean_absolute_error\"],\n",
    "    )\n",
    "\n",
    "    return model"
   ]
  },
  {
   "cell_type": "code",
   "execution_count": 23,
   "id": "00907bdc",
   "metadata": {},
   "outputs": [
    {
     "name": "stdout",
     "output_type": "stream",
     "text": [
      "Epoch 1/100\n",
      "793/793 [==============================] - 8s 8ms/step - loss: 45784.1016 - accuracy: 0.0044 - mean_absolute_error: 51.0985 - val_loss: 25322.1816 - val_accuracy: 0.0063 - val_mean_absolute_error: 119.5579\n",
      "Epoch 2/100\n",
      "793/793 [==============================] - 6s 7ms/step - loss: 42039.8828 - accuracy: 0.0044 - mean_absolute_error: 40.6056 - val_loss: 22420.2578 - val_accuracy: 0.0056 - val_mean_absolute_error: 121.7142\n",
      "Epoch 3/100\n",
      "793/793 [==============================] - 6s 7ms/step - loss: 41732.0117 - accuracy: 0.0044 - mean_absolute_error: 38.9242 - val_loss: 11994.6270 - val_accuracy: 0.0050 - val_mean_absolute_error: 83.6317\n",
      "Epoch 4/100\n",
      "793/793 [==============================] - 6s 7ms/step - loss: 41618.0273 - accuracy: 0.0043 - mean_absolute_error: 38.9430 - val_loss: 33563.8867 - val_accuracy: 0.0047 - val_mean_absolute_error: 157.8815\n",
      "Epoch 5/100\n",
      "793/793 [==============================] - 6s 7ms/step - loss: 41104.2695 - accuracy: 0.0040 - mean_absolute_error: 38.9374 - val_loss: 17710.1445 - val_accuracy: 0.0050 - val_mean_absolute_error: 105.2689\n",
      "Epoch 6/100\n",
      "793/793 [==============================] - 6s 7ms/step - loss: 40362.2461 - accuracy: 0.0044 - mean_absolute_error: 39.4243 - val_loss: 18734.8184 - val_accuracy: 0.0048 - val_mean_absolute_error: 106.3497\n",
      "Epoch 7/100\n",
      "793/793 [==============================] - 6s 7ms/step - loss: 40367.3867 - accuracy: 0.0043 - mean_absolute_error: 37.8991 - val_loss: 17309.2324 - val_accuracy: 0.0057 - val_mean_absolute_error: 102.0152\n",
      "Epoch 8/100\n",
      "793/793 [==============================] - 6s 7ms/step - loss: 40269.9062 - accuracy: 0.0044 - mean_absolute_error: 38.6087 - val_loss: 15306.6143 - val_accuracy: 0.0048 - val_mean_absolute_error: 93.7224\n",
      "Epoch 9/100\n",
      "793/793 [==============================] - 6s 7ms/step - loss: 39130.7969 - accuracy: 0.0041 - mean_absolute_error: 37.9643 - val_loss: 10615.7168 - val_accuracy: 0.0056 - val_mean_absolute_error: 75.2376\n",
      "Epoch 10/100\n",
      "793/793 [==============================] - 6s 7ms/step - loss: 38581.5898 - accuracy: 0.0043 - mean_absolute_error: 38.9622 - val_loss: 17639.2617 - val_accuracy: 0.0053 - val_mean_absolute_error: 106.1437\n",
      "Epoch 11/100\n",
      "793/793 [==============================] - 6s 7ms/step - loss: 38393.9922 - accuracy: 0.0041 - mean_absolute_error: 39.5227 - val_loss: 13218.1846 - val_accuracy: 0.0058 - val_mean_absolute_error: 88.4688\n",
      "Epoch 12/100\n",
      "793/793 [==============================] - 6s 7ms/step - loss: 35529.3984 - accuracy: 0.0043 - mean_absolute_error: 38.7826 - val_loss: 23401.3730 - val_accuracy: 0.0053 - val_mean_absolute_error: 117.0431\n",
      "Epoch 13/100\n",
      "793/793 [==============================] - 6s 7ms/step - loss: 33981.3633 - accuracy: 0.0043 - mean_absolute_error: 41.4578 - val_loss: 12890.9648 - val_accuracy: 0.0058 - val_mean_absolute_error: 81.9404\n",
      "Epoch 14/100\n",
      "793/793 [==============================] - 6s 7ms/step - loss: 39835.1836 - accuracy: 0.0044 - mean_absolute_error: 41.6786 - val_loss: 11025.9326 - val_accuracy: 0.0060 - val_mean_absolute_error: 79.5915\n",
      "Epoch 15/100\n",
      "793/793 [==============================] - 6s 7ms/step - loss: 36390.2383 - accuracy: 0.0043 - mean_absolute_error: 43.5687 - val_loss: 15222.1260 - val_accuracy: 0.0062 - val_mean_absolute_error: 87.2283\n",
      "Epoch 16/100\n",
      "793/793 [==============================] - 6s 7ms/step - loss: 35407.2422 - accuracy: 0.0041 - mean_absolute_error: 40.2678 - val_loss: 25814.7656 - val_accuracy: 0.0057 - val_mean_absolute_error: 123.4990\n",
      "Epoch 17/100\n",
      "793/793 [==============================] - 6s 7ms/step - loss: 32980.9805 - accuracy: 0.0042 - mean_absolute_error: 43.2304 - val_loss: 1213836.8750 - val_accuracy: 0.0061 - val_mean_absolute_error: 94.2696\n",
      "Epoch 18/100\n",
      "793/793 [==============================] - 6s 7ms/step - loss: 31016.2969 - accuracy: 0.0041 - mean_absolute_error: 38.9322 - val_loss: 22778.3496 - val_accuracy: 0.0062 - val_mean_absolute_error: 107.6688\n",
      "Epoch 19/100\n",
      "793/793 [==============================] - 6s 7ms/step - loss: 33877.4766 - accuracy: 0.0042 - mean_absolute_error: 39.7855 - val_loss: 34788.2695 - val_accuracy: 0.0057 - val_mean_absolute_error: 145.7466\n"
     ]
    },
    {
     "data": {
      "text/plain": [
       "<tensorflow.python.keras.callbacks.History at 0x1fa27178550>"
      ]
     },
     "execution_count": 23,
     "metadata": {},
     "output_type": "execute_result"
    }
   ],
   "source": [
    "model = get_compiled_model()\n",
    "callback = tf.keras.callbacks.EarlyStopping(\n",
    "    monitor=\"val_mean_absolute_error\", patience=10, restore_best_weights=True\n",
    ")\n",
    "model.fit(\n",
    "    x=x_train,\n",
    "    y=y_train,\n",
    "    #     train_dataset,\n",
    "    batch_size=64,\n",
    "    epochs=100,\n",
    "    validation_data=(x_val, y_val),\n",
    "    #     validation_data=val_dataset,\n",
    "    callbacks=[callback],\n",
    ")"
   ]
  },
  {
   "cell_type": "code",
   "execution_count": 24,
   "id": "3c7420fe",
   "metadata": {},
   "outputs": [
    {
     "name": "stdout",
     "output_type": "stream",
     "text": [
      "310/310 [==============================] - 1s 3ms/step - loss: 535284.6250 - accuracy: 0.0054 - mean_absolute_error: 121.6284\n"
     ]
    },
    {
     "data": {
      "text/plain": [
       "[535284.625, 0.00535083282738924, 121.6283950805664]"
      ]
     },
     "execution_count": 24,
     "metadata": {},
     "output_type": "execute_result"
    }
   ],
   "source": [
    "model.evaluate(x=x_test, y=y_test)\n",
    "# model.evaluate(test_dataset)"
   ]
  },
  {
   "cell_type": "code",
   "execution_count": 25,
   "id": "e648f5ea-ac9b-4548-965b-6b39b0b52ccf",
   "metadata": {},
   "outputs": [],
   "source": [
    "# util.big_print(y_test.head(100))"
   ]
  },
  {
   "cell_type": "code",
   "execution_count": 26,
   "id": "f7aef57d",
   "metadata": {},
   "outputs": [
    {
     "data": {
      "image/png": "[encoded data removed]",
      "text/plain": [
       "<Figure size 1440x504 with 1 Axes>"
      ]
     },
     "metadata": {
      "needs_background": "light"
     },
     "output_type": "display_data"
    },
    {
     "data": {
      "text/html": [
       "\n",
       "                <audio  controls=\"controls\" autoplay=\"autoplay\">\n",
       "                    <source src=\"https://www.myinstants.com/media/sounds/magic_immune.mp3\" type=\"audio/mpeg\" />\n",
       "                    Your browser does not support the audio element.\n",
       "                </audio>\n",
       "              "
      ],
      "text/plain": [
       "<IPython.lib.display.Audio object>"
      ]
     },
     "metadata": {},
     "output_type": "display_data"
    }
   ],
   "source": [
    "preds = model.predict(x=x_test)\n",
    "util.plot(200, 720, preds, y_test)\n",
    "util.allDone()"
   ]
  },
  {
   "cell_type": "code",
   "execution_count": 27,
   "id": "6a39125f-7377-4962-8764-0d9fe064ee0b",
   "metadata": {},
   "outputs": [
    {
     "data": {
      "image/png": "[encoded data removed]",
      "text/plain": [
       "<Figure size 1440x504 with 1 Axes>"
      ]
     },
     "metadata": {
      "needs_background": "light"
     },
     "output_type": "display_data"
    }
   ],
   "source": [
    "def plot(l, r, labels, width=20, height=7):\n",
    "    labels = labels[l:r]\n",
    "    x = list(range(len(labels)))\n",
    "    plt.rcParams[\"figure.figsize\"] = [width, height]\n",
    "    plt.scatter(x, labels, label=\"labels\")\n",
    "    plt.legend()\n",
    "    plt.show()\n",
    "\n",
    "\n",
    "plot(69, 420, y_test)"
   ]
  },
  {
   "cell_type": "code",
   "execution_count": null,
   "id": "72aeeba3-68f4-4e2c-abe7-843ba2b3fa9f",
   "metadata": {},
   "outputs": [],
   "source": []
  }
 ],
 "metadata": {
  "kernelspec": {
   "display_name": "tf",
   "language": "python",
   "name": "tf"
  },
  "language_info": {
   "codemirror_mode": {
    "name": "ipython",
    "version": 3
   },
   "file_extension": ".py",
   "mimetype": "text/x-python",
   "name": "python",
   "nbconvert_exporter": "python",
   "pygments_lexer": "ipython3",
   "version": "3.8.10"
  },
  "toc-autonumbering": true,
  "toc-showcode": true
 },
 "nbformat": 4,
 "nbformat_minor": 5
}
